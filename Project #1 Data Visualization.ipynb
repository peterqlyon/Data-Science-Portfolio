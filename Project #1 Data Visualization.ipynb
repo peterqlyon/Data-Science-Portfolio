{
 "cells": [
  {
   "cell_type": "markdown",
   "id": "8ccb1680",
   "metadata": {},
   "source": [
    "# Project #1 Data Visualization"
   ]
  },
  {
   "cell_type": "markdown",
   "id": "261cc349",
   "metadata": {},
   "source": [
    "## Import Packages"
   ]
  },
  {
   "cell_type": "code",
   "execution_count": null,
   "id": "22e30d1d",
   "metadata": {},
   "outputs": [],
   "source": [
    "import os\n",
    "import sys\n",
    "import numpy as np\n",
    "import pandas as pd\n",
    "import re"
   ]
  },
  {
   "cell_type": "code",
   "execution_count": null,
   "id": "2a32e1f0",
   "metadata": {},
   "outputs": [],
   "source": [
    "from pathlib import Path\n",
    "import matplotlib.pyplot as plt\n",
    "import plotly.express as px\n",
    "import plotly.graph_objects as go\n",
    "import seaborn as sns"
   ]
  },
  {
   "cell_type": "code",
   "execution_count": null,
   "id": "df48f4cf",
   "metadata": {},
   "outputs": [],
   "source": [
    "import plotly.io as pio"
   ]
  },
  {
   "cell_type": "markdown",
   "id": "88fd1033",
   "metadata": {},
   "source": [
    "## Where's the Data From?"
   ]
  },
  {
   "cell_type": "markdown",
   "id": "a5cc7b51",
   "metadata": {},
   "source": [
    "Data is from the following Kaggle Link\n",
    "\n",
    "https://www.kaggle.com/datasets/vincentcornlius/sales-orders?resource=download"
   ]
  },
  {
   "cell_type": "markdown",
   "id": "9f26b097",
   "metadata": {},
   "source": [
    "## Import Data"
   ]
  },
  {
   "cell_type": "code",
   "execution_count": null,
   "id": "f520e501",
   "metadata": {},
   "outputs": [],
   "source": [
    "#Make sure to update with your path\n",
    "Path = r\"/Users/peterlyon/Documents/Jupyter Notebooks/sales_data.csv\"\n",
    "df1 = pd.read_csv(os.path.normpath(Path))\n",
    "df1"
   ]
  },
  {
   "cell_type": "markdown",
   "id": "0aa39c9b",
   "metadata": {},
   "source": [
    "## Data Cleaning"
   ]
  },
  {
   "cell_type": "code",
   "execution_count": null,
   "id": "6d436a6f",
   "metadata": {},
   "outputs": [],
   "source": [
    "df1[\"State Abrev\"] = df1[\"Purchase Address\"].str[-8:-6]\n",
    "df1[\"ZIP\"] = df1[\"Purchase Address\"].str[-5:]"
   ]
  },
  {
   "cell_type": "code",
   "execution_count": null,
   "id": "1ff8539a",
   "metadata": {},
   "outputs": [],
   "source": [
    "df1['Order Date'] = pd.to_datetime(df1['Order Date'])"
   ]
  },
  {
   "cell_type": "code",
   "execution_count": null,
   "id": "f1b5b6f5",
   "metadata": {},
   "outputs": [],
   "source": [
    "df1['Day'] = df1['Order Date'].dt.day\n",
    "df1['Month'] = df1['Order Date'].dt.month\n",
    "df1['Year'] = df1['Order Date'].dt.year"
   ]
  },
  {
   "cell_type": "code",
   "execution_count": null,
   "id": "8fd4b113",
   "metadata": {},
   "outputs": [],
   "source": [
    "df1.rename(columns={'catégorie': 'Category'}, inplace = True)\n",
    "df1.rename(columns={'Order Date': 'Order Date and Time'}, inplace = True)\n",
    "df1.rename(columns={'turnover': 'Turnover'}, inplace = True)\n",
    "df1.rename(columns={'margin': 'Margin'}, inplace = True)"
   ]
  },
  {
   "cell_type": "code",
   "execution_count": null,
   "id": "63c6bb2e",
   "metadata": {},
   "outputs": [],
   "source": [
    "df1['Total Sales'] = df1['Quantity Ordered'] * df1['Price Each']\n",
    "df1"
   ]
  },
  {
   "cell_type": "code",
   "execution_count": null,
   "id": "63536d35",
   "metadata": {},
   "outputs": [],
   "source": [
    "df2 = df1[\"Purchase Address\"].str.rsplit(\",\", n=2, expand=True)\n",
    "df2"
   ]
  },
  {
   "cell_type": "code",
   "execution_count": null,
   "id": "9e1f292d",
   "metadata": {},
   "outputs": [],
   "source": [
    "df1[\"City\"] = df2[1]\n",
    "df1[\"Local Address\"] = df2[0]"
   ]
  },
  {
   "cell_type": "code",
   "execution_count": null,
   "id": "d3d5c7b0",
   "metadata": {},
   "outputs": [],
   "source": [
    "df1['Week Number'] = df1['Order Date and Time'].dt.isocalendar().week\n",
    "df1"
   ]
  },
  {
   "cell_type": "code",
   "execution_count": null,
   "id": "2f1c3a4b",
   "metadata": {},
   "outputs": [],
   "source": [
    "Daily_Sales_All = df1.groupby(['Year', 'Month', 'Day', 'Week Number']).agg({'Price Each': 'sum', 'Quantity Ordered': 'sum', 'Turnover': 'sum', 'Margin': 'sum', 'Total Sales': 'sum'}).reset_index()\n",
    "Daily_Sales_All"
   ]
  },
  {
   "cell_type": "code",
   "execution_count": null,
   "id": "c22f6e64",
   "metadata": {},
   "outputs": [],
   "source": [
    "Weekly_Sales_All = df1.groupby(['Year', 'Week Number']).agg({'Price Each': 'sum', 'Quantity Ordered': 'sum', 'Turnover': 'sum', 'Margin': 'sum', 'Total Sales': 'sum'}).reset_index()\n",
    "Weekly_Sales_All.tail()"
   ]
  },
  {
   "cell_type": "code",
   "execution_count": null,
   "id": "5a217ffa",
   "metadata": {},
   "outputs": [],
   "source": [
    "Weekly_Sales_All.loc[52,'Week Number'] = 53\n",
    "Weekly_Sales_All.tail()"
   ]
  },
  {
   "cell_type": "code",
   "execution_count": null,
   "id": "97035eb7",
   "metadata": {},
   "outputs": [],
   "source": [
    "Monthly_Sales_All = df1.groupby(['Year', 'Month']).agg({'Price Each': 'sum', 'Quantity Ordered': 'sum', 'Turnover': 'sum', 'Margin': 'sum', 'Total Sales': 'sum'}).reset_index()\n",
    "Monthly_Sales_All['Average Purchase Cost'] = Monthly_Sales_All['Total Sales'] / Monthly_Sales_All['Quantity Ordered']\n",
    "Monthly_Sales_All"
   ]
  },
  {
   "cell_type": "code",
   "execution_count": null,
   "id": "dc2053d0",
   "metadata": {},
   "outputs": [],
   "source": [
    "df1"
   ]
  },
  {
   "cell_type": "markdown",
   "id": "37d1c186",
   "metadata": {},
   "source": [
    "## Data Exporation"
   ]
  },
  {
   "cell_type": "code",
   "execution_count": null,
   "id": "e7a5b009",
   "metadata": {},
   "outputs": [],
   "source": [
    "for col in df1.columns:\n",
    "    print(col)"
   ]
  },
  {
   "cell_type": "code",
   "execution_count": null,
   "id": "9ede857e",
   "metadata": {},
   "outputs": [],
   "source": [
    "df1.info()"
   ]
  },
  {
   "cell_type": "code",
   "execution_count": null,
   "id": "eafddd5b",
   "metadata": {},
   "outputs": [],
   "source": [
    "df1.describe().round(2)"
   ]
  },
  {
   "cell_type": "code",
   "execution_count": null,
   "id": "00e3b7e9",
   "metadata": {},
   "outputs": [],
   "source": [
    "df1.describe(include = \"all\").round(2)"
   ]
  },
  {
   "cell_type": "code",
   "execution_count": null,
   "id": "a434a90b",
   "metadata": {},
   "outputs": [],
   "source": [
    "df1[\"Category\"].unique()"
   ]
  },
  {
   "cell_type": "code",
   "execution_count": null,
   "id": "d9e33d70",
   "metadata": {},
   "outputs": [],
   "source": [
    "df1[\"Category\"].replace('Électronique', 'Electronics', inplace=True)\n",
    "df1[\"Category\"].replace('Alimentation', 'Food', inplace=True)\n",
    "df1[\"Category\"].replace('Vêtements', 'Clothes', inplace=True)"
   ]
  },
  {
   "cell_type": "code",
   "execution_count": null,
   "id": "8764d0fa",
   "metadata": {},
   "outputs": [],
   "source": [
    "df1[\"Category\"].unique()"
   ]
  },
  {
   "cell_type": "code",
   "execution_count": null,
   "id": "7556c053",
   "metadata": {},
   "outputs": [],
   "source": [
    "df1[\"Product\"].unique()"
   ]
  },
  {
   "cell_type": "code",
   "execution_count": null,
   "id": "dd9c04b9",
   "metadata": {},
   "outputs": [],
   "source": [
    "df1[\"City\"].unique()"
   ]
  },
  {
   "cell_type": "code",
   "execution_count": null,
   "id": "898c310d",
   "metadata": {},
   "outputs": [],
   "source": [
    "df1[\"State Abrev\"].unique()"
   ]
  },
  {
   "cell_type": "code",
   "execution_count": null,
   "id": "25e59bb5",
   "metadata": {},
   "outputs": [],
   "source": [
    "df1[\"ZIP\"].unique()"
   ]
  },
  {
   "cell_type": "code",
   "execution_count": null,
   "id": "a4f6295c",
   "metadata": {},
   "outputs": [],
   "source": [
    "df1[\"Year\"].unique()"
   ]
  },
  {
   "cell_type": "markdown",
   "id": "8c3e5ff2",
   "metadata": {},
   "source": [
    "### Data Viz Exploration"
   ]
  },
  {
   "cell_type": "code",
   "execution_count": null,
   "id": "e6ed2dd3",
   "metadata": {},
   "outputs": [],
   "source": [
    "df1.pivot_table(values=\"Total Sales\", index=[\"Product\"], columns=\"Category\", aggfunc='sum', fill_value=None, margins=True, dropna=True, margins_name='All')"
   ]
  },
  {
   "cell_type": "code",
   "execution_count": null,
   "id": "167f2e3d",
   "metadata": {},
   "outputs": [],
   "source": [
    "fig1 = go.Figure(data=go.Scatter(x=pd.to_datetime(Monthly_Sales_All['Year'].astype(str) + '-' + Monthly_Sales_All['Month'].astype(str) + '-01'),\n",
    "                                 y=Monthly_Sales_All['Price Each'],\n",
    "                                 mode='lines+markers'))\n",
    "\n",
    "fig1.update_layout(title='Aggregated Monthly Sales Over Time',\n",
    "                   xaxis_title='Time',\n",
    "                   yaxis_title='Total Sales',\n",
    "                   xaxis=dict(showgrid=True, showline=True, showticklabels=True),\n",
    "                   yaxis=dict(showgrid=True, showline=True, showticklabels=True))\n",
    "\n",
    "fig1.show()\n",
    "pio.write_html(fig1, file='figure.html', auto_open=True)"
   ]
  },
  {
   "cell_type": "code",
   "execution_count": null,
   "id": "5ccd1c88",
   "metadata": {},
   "outputs": [],
   "source": [
    "fig2 = go.Figure(data=go.Scatter(x=Weekly_Sales_All['Week Number'],\n",
    "                                 y=Weekly_Sales_All['Price Each'],\n",
    "                                 mode='lines+markers'))\n",
    "\n",
    "fig2.update_layout(title='Aggregated Weekly Sales Over Time',\n",
    "                   xaxis_title='Weeks',\n",
    "                   yaxis_title='Total Sales',\n",
    "                   xaxis=dict(showgrid=True, showline=True, showticklabels=True),\n",
    "                   yaxis=dict(showgrid=True, showline=True, showticklabels=True))\n",
    "\n",
    "fig2.show()\n",
    "pio.write_html(fig2, file='figure.html', auto_open=True)"
   ]
  },
  {
   "cell_type": "code",
   "execution_count": null,
   "id": "83439d4b",
   "metadata": {},
   "outputs": [],
   "source": [
    "fig3 = go.Figure(data=go.Scatter(x=pd.to_datetime(Daily_Sales_All['Year'].astype(str) + '-' + Daily_Sales_All['Month'].astype(str) + '-' + Daily_Sales_All['Day'].astype(str) + '-01'),\n",
    "                                 y=Daily_Sales_All['Price Each'],\n",
    "                                 mode='lines+markers'))\n",
    "\n",
    "fig3.update_layout(title='Aggregated Daily Sales Over Time',\n",
    "                   xaxis_title='Time',\n",
    "                   yaxis_title='Total Sales',\n",
    "                   xaxis=dict(showgrid=True, showline=True, showticklabels=True),\n",
    "                   yaxis=dict(showgrid=True, showline=True, showticklabels=True))\n",
    "\n",
    "fig3.show()\n",
    "pio.write_html(fig3, file='figure.html', auto_open=True)"
   ]
  },
  {
   "cell_type": "markdown",
   "id": "9ca0fa0e",
   "metadata": {},
   "source": [
    "### Peak and Lowest Sales"
   ]
  },
  {
   "cell_type": "code",
   "execution_count": null,
   "id": "5c59f675",
   "metadata": {},
   "outputs": [],
   "source": [
    "peak_sales = Daily_Sales_All[Daily_Sales_All['Price Each'] == Daily_Sales_All['Price Each'].max()]\n",
    "low_sales = Daily_Sales_All[Daily_Sales_All['Price Each'] == Daily_Sales_All['Price Each'].min()]\n",
    "\n",
    "print(f\"Peak Sales were on Month: {peak_sales['Month'].values[0]}, Day: {peak_sales['Day'].values[0]}, {peak_sales['Year'].values[0]}\")\n",
    "print(f\"Lowest Sales were on Month: {low_sales['Month'].values[0]}, Day: {peak_sales['Day'].values[0]}, {low_sales['Year'].values[0]}\")"
   ]
  },
  {
   "cell_type": "code",
   "execution_count": null,
   "id": "a08627a7",
   "metadata": {},
   "outputs": [],
   "source": [
    "Daily_Sales_All['Sales Growth'] = Daily_Sales_All['Price Each'].pct_change() * 100\n",
    "\n",
    "# Plotting the growth rate\n",
    "plt.figure(figsize=(12, 6))\n",
    "sns.lineplot(x=pd.to_datetime(Daily_Sales_All['Year'].astype(str) + '-' + Daily_Sales_All['Month'].astype(str) + '-' + Daily_Sales_All['Day'].astype(str) + '-01'),\n",
    "             y='Sales Growth', data=Daily_Sales_All)\n",
    "plt.title('Daily Sales Growth Rate')\n",
    "plt.ylabel('Growth Rate (%)')\n",
    "plt.xlabel('Date')\n",
    "plt.grid(True)\n",
    "plt.show()"
   ]
  },
  {
   "cell_type": "code",
   "execution_count": null,
   "id": "a3827b0a",
   "metadata": {},
   "outputs": [],
   "source": [
    "Weekly_Sales_All['Sales Growth'] = Weekly_Sales_All['Price Each'].pct_change() * 100\n",
    "\n",
    "# Plotting the growth rate\n",
    "plt.figure(figsize=(12, 6))\n",
    "sns.lineplot(x='Week Number',\n",
    "             y='Sales Growth', data=Weekly_Sales_All)\n",
    "plt.title('Weekly Sales Growth Rate')\n",
    "plt.ylabel('Growth Rate (%)')\n",
    "plt.xlabel('Week Number')\n",
    "plt.grid(True)\n",
    "plt.show()"
   ]
  },
  {
   "cell_type": "code",
   "execution_count": null,
   "id": "f82708ff",
   "metadata": {},
   "outputs": [],
   "source": [
    "Monthly_Sales_All['Sales Growth'] = Monthly_Sales_All['Price Each'].pct_change() * 100\n",
    "\n",
    "# Plotting the growth rate\n",
    "plt.figure(figsize=(12, 6))\n",
    "sns.lineplot(x=pd.to_datetime(Monthly_Sales_All['Year'].astype(str) + '-' + Monthly_Sales_All['Month'].astype(str) + '-01'),\n",
    "             y='Sales Growth', data=Monthly_Sales_All)\n",
    "plt.title('Monthly Sales Growth Rate')\n",
    "plt.ylabel('Growth Rate (%)')\n",
    "plt.xlabel('Date')\n",
    "plt.grid(True)\n",
    "plt.show()"
   ]
  },
  {
   "cell_type": "markdown",
   "id": "ad9eecea",
   "metadata": {},
   "source": [
    "## Total Sales by Category"
   ]
  },
  {
   "cell_type": "code",
   "execution_count": null,
   "id": "277478a6",
   "metadata": {
    "scrolled": false
   },
   "outputs": [],
   "source": [
    "fig = px.box(df1,x=\"Category\", y=\"Total Sales\")\n",
    "fig.show()"
   ]
  },
  {
   "cell_type": "code",
   "execution_count": null,
   "id": "0618e852",
   "metadata": {},
   "outputs": [],
   "source": [
    "state_sales = df1.groupby('State Abrev')['Total Sales'].sum().sort_values(ascending=True)\n",
    "\n",
    "# Plotting sales by city\n",
    "plt.figure(figsize=(12, 7))\n",
    "state_sales.plot(kind='barh', color='DarkGreen')\n",
    "plt.title('State Sales Distribution')\n",
    "plt.ylabel('State')\n",
    "plt.xlabel('Total Sales ($M)')\n",
    "plt.xticks(rotation=0)\n",
    "plt.grid(axis='y')\n",
    "plt.show()"
   ]
  },
  {
   "cell_type": "code",
   "execution_count": null,
   "id": "e85ec5da",
   "metadata": {},
   "outputs": [],
   "source": [
    "state_sales = df1.groupby('ZIP')['Total Sales'].sum().sort_values(ascending=True)\n",
    "\n",
    "# Plotting sales by city\n",
    "plt.figure(figsize=(12, 7))\n",
    "state_sales.plot(kind='barh', color='DarkBlue')\n",
    "plt.title('ZIP Code Distribution')\n",
    "plt.ylabel('ZIP')\n",
    "plt.xlabel('Total Sales ($M)')\n",
    "plt.xticks(rotation=0)\n",
    "plt.grid(axis='y')\n",
    "plt.show()"
   ]
  },
  {
   "cell_type": "code",
   "execution_count": null,
   "id": "8a22eb29",
   "metadata": {},
   "outputs": [],
   "source": [
    "state_sales = df1.groupby('Product')['Total Sales'].sum().sort_values(ascending=True)\n",
    "plt.figure(figsize=(12, 7))\n",
    "state_sales.plot(kind='barh', color='DarkRed')\n",
    "plt.title('Product Sales Distribution')\n",
    "plt.ylabel('Product')\n",
    "plt.xlabel('Total Sales ($100,000)')\n",
    "plt.xticks(rotation=0)\n",
    "plt.grid(axis='y')\n",
    "plt.show()"
   ]
  },
  {
   "cell_type": "code",
   "execution_count": null,
   "id": "0c7b5b9c",
   "metadata": {},
   "outputs": [],
   "source": [
    "df6 = df1.groupby(['Product']).agg({'Quantity Ordered': 'sum', 'Total Sales': 'sum'}).sort_values(by=['Total Sales'], ascending=False).reset_index()\n",
    "df6"
   ]
  },
  {
   "cell_type": "markdown",
   "id": "16da1676",
   "metadata": {},
   "source": [
    "### Correlation Matrix"
   ]
  },
  {
   "cell_type": "code",
   "execution_count": null,
   "id": "36c9d068",
   "metadata": {},
   "outputs": [],
   "source": [
    "correlation_matrix = df1.corr()\n",
    "sns.set(rc={'figure.figsize':(11.7,8.27)})\n",
    "sns.heatmap(correlation_matrix, annot=True, cmap=\"mako\", fmt='.2f')\n",
    "plt.title('Correlation Matrix')\n",
    "plt.show()"
   ]
  },
  {
   "cell_type": "code",
   "execution_count": null,
   "id": "52393ab6",
   "metadata": {},
   "outputs": [],
   "source": [
    "ax = sns.barplot(data = df1, \n",
    "                     x = 'Quantity Ordered', \n",
    "                     y = 'Total Sales')"
   ]
  },
  {
   "cell_type": "markdown",
   "id": "083b1f19",
   "metadata": {},
   "source": [
    "### Top 5 Zip Codes for Sales"
   ]
  },
  {
   "cell_type": "code",
   "execution_count": null,
   "id": "a2ba6200",
   "metadata": {},
   "outputs": [],
   "source": [
    "heatmap_data = Monthly_Sales_All.pivot(\"Month\", \"Year\", \"Total Sales\")\n",
    "plt.figure(figsize=(6, 8))\n",
    "sns.heatmap(heatmap_data, cmap=\"rocket_r\", annot=True, fmt=\",.0f\")\n",
    "plt.title('Monthly Sales Heatmap')\n",
    "plt.show()"
   ]
  },
  {
   "cell_type": "code",
   "execution_count": null,
   "id": "c91b4092",
   "metadata": {},
   "outputs": [],
   "source": [
    "df4 = df1.groupby(['ZIP', 'State Abrev', 'City']).agg({'Quantity Ordered': 'sum', 'Total Sales': 'sum'}).sort_values(by=['Total Sales'], ascending=False).reset_index()\n",
    "df4.head()"
   ]
  },
  {
   "cell_type": "code",
   "execution_count": null,
   "id": "0e033b0b",
   "metadata": {},
   "outputs": [],
   "source": [
    "df5 = df1.groupby(['ZIP', 'State Abrev', 'City', 'Local Address']).agg({'Quantity Ordered': 'sum', 'Total Sales': 'sum'}).sort_values(by=['Total Sales'], ascending=False).reset_index()\n",
    "df5"
   ]
  },
  {
   "cell_type": "markdown",
   "id": "0de0594a",
   "metadata": {},
   "source": [
    "### Top 20 Local Addresses by Total Sales"
   ]
  },
  {
   "cell_type": "code",
   "execution_count": null,
   "id": "ee242867",
   "metadata": {},
   "outputs": [],
   "source": [
    "df7 = df5.sort_values([\"Total Sales\"], ascending=False)\n",
    "df7.head(20)"
   ]
  },
  {
   "cell_type": "markdown",
   "id": "e5dff9eb",
   "metadata": {},
   "source": [
    "### Top 20 Local Addresses by Quanity Ordered"
   ]
  },
  {
   "cell_type": "code",
   "execution_count": null,
   "id": "d0101b9f",
   "metadata": {},
   "outputs": [],
   "source": [
    "df8 = df5.sort_values([\"Quantity Ordered\"], ascending=False)\n",
    "df8.head(20)"
   ]
  },
  {
   "cell_type": "code",
   "execution_count": null,
   "id": "fb1aad22",
   "metadata": {},
   "outputs": [],
   "source": []
  }
 ],
 "metadata": {
  "kernelspec": {
   "display_name": "Python 3 (ipykernel)",
   "language": "python",
   "name": "python3"
  },
  "language_info": {
   "codemirror_mode": {
    "name": "ipython",
    "version": 3
   },
   "file_extension": ".py",
   "mimetype": "text/x-python",
   "name": "python",
   "nbconvert_exporter": "python",
   "pygments_lexer": "ipython3",
   "version": "3.9.13"
  }
 },
 "nbformat": 4,
 "nbformat_minor": 5
}
